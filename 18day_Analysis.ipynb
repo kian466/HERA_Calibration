{
 "cells": [
  {
   "cell_type": "code",
   "execution_count": 1,
   "id": "covered-lounge",
   "metadata": {
    "scrolled": true
   },
   "outputs": [
    {
     "name": "stderr",
     "output_type": "stream",
     "text": [
      "/users/kshahin/miniconda2/envs/hera3/lib/python3.7/site-packages/hera_sim/visibilities/__init__.py:22: UserWarning: HealVis failed to import.\n",
      "  warnings.warn(\"HealVis failed to import.\")\n",
      "/users/kshahin/miniconda2/envs/hera3/lib/python3.7/site-packages/hera_sim/visibilities/__init__.py:27: UserWarning: PRISim failed to import.\n",
      "  warnings.warn(\"PRISim failed to import.\")\n",
      "/users/kshahin/miniconda2/envs/hera3/lib/python3.7/site-packages/hera_sim/visibilities/__init__.py:33: UserWarning: VisGPU failed to import.\n",
      "  warnings.warn(\"VisGPU failed to import.\")\n",
      "/users/kshahin/miniconda2/envs/hera3/lib/python3.7/site-packages/hera_sim/__init__.py:36: FutureWarning: \n",
      "In the next major release, all HERA-specific variables will be removed from the codebase. The following variables will need to be accessed through new class-like structures to be introduced in the next major release: \n",
      "\n",
      "noise.HERA_Tsky_mdl\n",
      "noise.HERA_BEAM_POLY\n",
      "sigchain.HERA_NRAO_BANDPASS\n",
      "rfi.HERA_RFI_STATIONS\n",
      "\n",
      "Additionally, the next major release will involve modifications to the package's API, which move toward a regularization of the way in which hera_sim methods are interfaced with; in particular, changes will be made such that the Simulator class is the most intuitive way of interfacing with the hera_sim package features.\n",
      "  FutureWarning)\n"
     ]
    }
   ],
   "source": [
    "#Imports\n",
    "\n",
    "import numpy as np\n",
    "import matplotlib.pyplot as plt\n",
    "import hera_cal.abscal as abscal\n",
    "import uvtools.dspec as dspec \n",
    "import hera_pspec\n",
    "from hera_pspec import pspecbeam\n",
    "from hera_pspec import pspecdata\n",
    "import itertools\n",
    "import scipy \n",
    "from scipy import signal\n",
    "import pickle\n",
    "import copy\n",
    "from hera_cal.utils import polnum2str, polstr2num, jnum2str, jstr2num\n",
    "from hera_cal.io import HERAData, HERACal\n",
    "from hera_cal.io import DataContainer \n",
    "from hera_cal import apply_cal\n",
    "from hera_cal import io\n",
    "from hera_cal import smooth_cal\n",
    "from hera_cal import vis_clean\n",
    "from hera_cal import redcal\n",
    "from pyuvdata import UVFlag\n",
    "import glob\n",
    "import tqdm\n",
    "import os\n",
    "import shutil\n",
    "from hera_cal import frf\n",
    "import imp\n",
    "from hera_pspec import utils as uvp_utils\n",
    "from hera_pspec import plot as pspec_plot\n",
    "from hera_pspec import grouping"
   ]
  },
  {
   "cell_type": "code",
   "execution_count": 2,
   "id": "written-circulation",
   "metadata": {},
   "outputs": [],
   "source": [
    "%config Completer.use_jedi = False"
   ]
  },
  {
   "cell_type": "code",
   "execution_count": 3,
   "id": "declared-cornwall",
   "metadata": {},
   "outputs": [],
   "source": [
    "#Scale Plot/Figure Sizes\n",
    "\n",
    "plt.rcParams['figure.figsize'] = 20,10\n",
    "plt.rcParams['font.size'] = 20"
   ]
  },
  {
   "cell_type": "code",
   "execution_count": 4,
   "id": "respective-maryland",
   "metadata": {},
   "outputs": [],
   "source": [
    "#Discrete Fourier Transform \n",
    "\n",
    "def fft(x):\n",
    "    bh = dspec.gen_window('bh', (x.shape[1]))\n",
    "    return np.abs(np.fft.fftshift(np.fft.fft(np.fft.fftshift(bh*x))))"
   ]
  },
  {
   "cell_type": "code",
   "execution_count": 8,
   "id": "blocked-equation",
   "metadata": {},
   "outputs": [
    {
     "name": "stderr",
     "output_type": "stream",
     "text": [
      "Telescope RIMEz calculation is not in known_telescopes.\n",
      "LST values stored in HERA_CLEAN_NOPRISIM_averagebeforefilter/data_avg_avg_beforefiltered.Cavg.uvh5 are not self-consistent with time_array and telescope location. Consider recomputing with utils.get_lst_for_time.\n",
      "LST values stored in HERA_CLEAN_NOPRISIM_averageafterfilter/data_avg_avg_afterfiltered.Cavg.uvh5 are not self-consistent with time_array and telescope location. Consider recomputing with utils.get_lst_for_time.\n",
      "LST values stored in HERA_CLEAN_NOPRISIM_FULL_averagebeforefilter/data_avg_avg_beforefiltered.Cavg.uvh5 are not self-consistent with time_array and telescope location. Consider recomputing with utils.get_lst_for_time.\n",
      "LST values stored in HERA_CLEAN_NOPRISIM_FULL_averageafterfilter/data_avg_avg_afterfiltered.Cavg.uvh5 are not self-consistent with time_array and telescope location. Consider recomputing with utils.get_lst_for_time.\n",
      "Telescope RIMEz calculation is not in known_telescopes.\n",
      "LST values stored in HERA_CLEAN_NOPRISIM_averageafterfilter/data_avg_avg_afterfiltered.Cavg.uvh5 are not self-consistent with time_array and telescope location. Consider recomputing with utils.get_lst_for_time.\n",
      "Telescope RIMEz calculation is not in known_telescopes.\n",
      "LST values stored in HERA_CLEAN_NOPRISIM_FULL_averagebeforefilter/data_avg_avg_beforefiltered.Cavg.uvh5 are not self-consistent with time_array and telescope location. Consider recomputing with utils.get_lst_for_time.\n",
      "Telescope RIMEz calculation is not in known_telescopes.\n",
      "LST values stored in HERA_CLEAN_NOPRISIM_FULL_averageafterfilter/data_avg_avg_afterfiltered.Cavg.uvh5 are not self-consistent with time_array and telescope location. Consider recomputing with utils.get_lst_for_time.\n"
     ]
    }
   ],
   "source": [
    "file_before_10 = 'HERA_CLEAN_NOPRISIM_averagebeforefilter/data_avg_avg_beforefiltered.Cavg.uvh5'\n",
    "file_after_10 = 'HERA_CLEAN_NOPRISIM_averageafterfilter/data_avg_avg_afterfiltered.Cavg.uvh5'\n",
    "file_before_8 = 'HERA_CLEAN_NOPRISIM_FULL_averagebeforefilter/data_avg_avg_beforefiltered.Cavg.uvh5'\n",
    "file_after_8 = 'HERA_CLEAN_NOPRISIM_FULL_averageafterfilter/data_avg_avg_afterfiltered.Cavg.uvh5'\n",
    "\n",
    "avg_before_filter_10 = HERAData(file_before_10)\n",
    "avg_after_filter_10 = HERAData(file_after_10)\n",
    "avg_before_filter_8 = HERAData(file_before_8)\n",
    "avg_after_filter_8 = HERAData(file_after_8)\n",
    "\n",
    "avg_bf_data_10, avg_bf_flags_10,avg_bf_nsamples_10 = avg_before_filter_10.read()\n",
    "avg_af_data_10, avg_af_flags_10,avg_af_nsamples_10 = avg_after_filter_10.read()\n",
    "avg_bf_data_8, avg_bf_flags_8,avg_bf_nsamples_8 = avg_before_filter_8.read()\n",
    "avg_af_data_8, avg_af_flags_8,avg_af_nsamples_8 = avg_after_filter_8.read()\n",
    "\n",
    "lambd = 3e+8 / 150e+6 \n",
    "fwhm = (2.44*lambd)/14\n",
    "airy_beam = pspecbeam.PSpecBeamGauss(fwhm,avg_after_filter_10.freqs)\n"
   ]
  },
  {
   "cell_type": "code",
   "execution_count": 10,
   "id": "ceramic-hammer",
   "metadata": {},
   "outputs": [],
   "source": [
    "selection = (avg_before_filter_10.lsts*(24/(2*np.pi)) >= 4.2) & (avg_before_filter_10.lsts*(24/(2*np.pi)) <= 6.2)"
   ]
  },
  {
   "cell_type": "code",
   "execution_count": 11,
   "id": "elementary-difference",
   "metadata": {},
   "outputs": [],
   "source": [
    "avg_before_filter_10.select(times = avg_before_filter_10.times[selection])\n",
    "avg_after_filter_10.select(times = avg_after_filter_10.times[selection])"
   ]
  },
  {
   "cell_type": "code",
   "execution_count": 12,
   "id": "equipped-pulse",
   "metadata": {},
   "outputs": [],
   "source": [
    "avg_before_filter_8.select(times = avg_before_filter_8.times[selection])\n",
    "avg_after_filter_8.select(times = avg_after_filter_8.times[selection])"
   ]
  },
  {
   "cell_type": "code",
   "execution_count": 13,
   "id": "infectious-monaco",
   "metadata": {},
   "outputs": [
    {
     "name": "stderr",
     "output_type": "stream",
     "text": [
      "invalid value encountered in true_divide\n"
     ]
    }
   ],
   "source": [
    "data_avg_before = DataContainer({})\n",
    "flags_avg_before = DataContainer({})\n",
    "nsamples_avg_before = DataContainer({})\n",
    "for bl in avg_bf_data_10:\n",
    "    data_avg_before[bl] = (avg_bf_data_10[bl]*avg_bf_nsamples_10[bl]*(~avg_bf_flags_10[bl])) + (avg_bf_data_8[bl]*avg_bf_nsamples_8[bl]*(~avg_bf_flags_8[bl]))\n",
    "    flags_avg_before[bl] = avg_bf_flags_10[bl] & avg_bf_flags_8[bl]\n",
    "    nsamples_avg_before[bl] = (avg_bf_nsamples_10[bl]*(~avg_bf_flags_10[bl])) + (avg_bf_nsamples_8[bl]*(~avg_bf_flags_8[bl]))\n",
    "    data_avg_before[bl] = data_avg_before[bl]/nsamples_avg_before[bl]\n",
    "    data_avg_before[bl][~np.isfinite(data_avg_before[bl])] = 0.0"
   ]
  },
  {
   "cell_type": "code",
   "execution_count": 14,
   "id": "deluxe-florida",
   "metadata": {},
   "outputs": [
    {
     "name": "stderr",
     "output_type": "stream",
     "text": [
      "invalid value encountered in true_divide\n"
     ]
    }
   ],
   "source": [
    "data_avg_after = DataContainer({})\n",
    "flags_avg_after = DataContainer({})\n",
    "nsamples_avg_after = DataContainer({})\n",
    "for bl in avg_af_data_10:\n",
    "    data_avg_after[bl] = (avg_af_data_10[bl]*avg_af_nsamples_10[bl]*(~avg_af_flags_10[bl])) + (avg_af_data_8[bl]*avg_af_nsamples_8[bl]*(~avg_af_flags_8[bl]))\n",
    "    flags_avg_after[bl] = avg_af_flags_10[bl] & avg_af_flags_8[bl]\n",
    "    nsamples_avg_after[bl] = (avg_af_nsamples_10[bl]*(~avg_af_flags_10[bl])) + (avg_af_nsamples_8[bl]*(~avg_af_flags_8[bl]))\n",
    "    data_avg_after[bl] = data_avg_after[bl]/nsamples_avg_after[bl]\n",
    "    data_avg_after[bl][~np.isfinite(data_avg_after[bl])] = 0.0"
   ]
  },
  {
   "cell_type": "code",
   "execution_count": 16,
   "id": "signed-experience",
   "metadata": {},
   "outputs": [
    {
     "name": "stdout",
     "output_type": "stream",
     "text": [
      "File exists; clobbering\n"
     ]
    },
    {
     "name": "stderr",
     "output_type": "stream",
     "text": [
      "Telescope RIMEz calculation is not in known_telescopes.\n",
      "LST values stored in data_avg_before.uvh5 are not self-consistent with time_array and telescope location. Consider recomputing with utils.get_lst_for_time.\n"
     ]
    }
   ],
   "source": [
    "hd_before = HERAData(file_before_10)\n",
    "data,flags,nsamples = hd_before.read()\n",
    "hd_before.update(data=data_avg_before, flags=flags_avg_before, nsamples=nsamples_avg_before)\n",
    "hd_before.write_uvh5('data_avg_before.uvh5', clobber=True)\n",
    "\n",
    "hd_before = HERAData('data_avg_before.uvh5')\n",
    "data_avg_before, flags_avg_before, nsamples_avg_before = hd_before.read()"
   ]
  },
  {
   "cell_type": "code",
   "execution_count": 17,
   "id": "broken-lease",
   "metadata": {},
   "outputs": [
    {
     "name": "stderr",
     "output_type": "stream",
     "text": [
      "Telescope RIMEz calculation is not in known_telescopes.\n",
      "LST values stored in HERA_CLEAN_NOPRISIM_averageafterfilter/data_avg_avg_afterfiltered.Cavg.uvh5 are not self-consistent with time_array and telescope location. Consider recomputing with utils.get_lst_for_time.\n",
      "Telescope RIMEz calculation is not in known_telescopes.\n",
      "LST values stored in data_avg_after.uvh5 are not self-consistent with time_array and telescope location. Consider recomputing with utils.get_lst_for_time.\n"
     ]
    }
   ],
   "source": [
    "hd_after = HERAData(file_after_10)\n",
    "data,flags,nsamples = hd_after.read()\n",
    "hd_after.update(data=data_avg_after, flags=flags_avg_after, nsamples=nsamples_avg_after)\n",
    "hd_after.write_uvh5('data_avg_after.uvh5', clobber=True)\n",
    "\n",
    "hd_after = HERAData('data_avg_after.uvh5')\n",
    "data_avg_after, flags_avg_after, nsamples_avg_after = hd_after.read()"
   ]
  },
  {
   "cell_type": "code",
   "execution_count": 11,
   "id": "loved-partnership",
   "metadata": {},
   "outputs": [],
   "source": [
    "# file = '/lustre/aoc/projects/hera/aewallwi/time_dep_flagging/2458098/zen.2458098.26719.foregrounds.true.uvh5'\n",
    "# dat = HERAData(file)\n",
    "# data, flags, nsamples = dat.read()\n",
    "# jul = 24*3600\n",
    "# bh = dspec.gen_window('bh4',1024)\n",
    "# interpolated_times = (data.times - data.times.min())*jul\n",
    "# delay_blh = np.fft.fftshift(np.fft.fftfreq(len(bh),data.freqs[1] - data.freqs[0]))\n",
    "# ext = (delay_blh.min()*1e+9, delay_blh.max()*1e+9, interpolated_times.max(), interpolated_times.min())\n",
    "# plt.imshow(np.log10(np.abs(fft(bh*(data[(11, 14, 'nn')]*(data.freqs[1]-data.freqs[0]))))), extent=ext, aspect='auto')\n",
    "# clb = plt.colorbar()\n",
    "# clb.ax.set_title('[Jy*Hz]')\n",
    "# plt.title('Original Simulation (1/32)')\n",
    "# plt.xlabel('Delay [ns]')\n",
    "# plt.ylabel('Simulation Time [s]')"
   ]
  },
  {
   "cell_type": "code",
   "execution_count": 12,
   "id": "ancient-tourism",
   "metadata": {},
   "outputs": [],
   "source": [
    "# jul = 24*3600\n",
    "# bh = dspec.gen_window('bh',614)\n",
    "# interpolated_times = (avg_bf_data.times - avg_bf_data.times.min())*jul\n",
    "# delay_blh = np.fft.fftshift(np.fft.fftfreq(len(bh),avg_bf_data.freqs[1] - avg_bf_data.freqs[0]))\n",
    "# ext = (delay_blh.min()*1e+9, delay_blh.max()*1e+9, interpolated_times.max(), interpolated_times.min())\n",
    "# plt.imshow(np.log10(np.abs(fft(bh*(avg_bf_data[(11, 14, 'nn')]*(avg_bf_data.freqs[1]-avg_bf_data.freqs[0]))))), extent=ext, aspect='auto')\n",
    "# clb = plt.colorbar()\n",
    "# clb.ax.set_title('[Jy*Hz]')\n",
    "# plt.title('Average Before Fourier-Filter')\n",
    "# plt.xlabel('Delay [ns]')\n",
    "# plt.ylabel('Simulation Time [s]')"
   ]
  },
  {
   "cell_type": "code",
   "execution_count": 13,
   "id": "domestic-eclipse",
   "metadata": {},
   "outputs": [],
   "source": [
    "# jul = 24*3600\n",
    "# bh = dspec.gen_window('bh',614)\n",
    "# interpolated_times = (avg_af_data.times - avg_af_data.times.min())*jul\n",
    "# delay_blh = np.fft.fftshift(np.fft.fftfreq(len(bh),avg_af_data.freqs[1] - avg_af_data.freqs[0]))\n",
    "# ext = (delay_blh.min()*1e+9, delay_blh.max()*1e+9, interpolated_times.max(), interpolated_times.min())\n",
    "# plt.imshow(np.log10(np.abs(fft(bh*(avg_af_data[(11, 14, 'nn')]*(avg_af_data.freqs[1]-avg_af_data.freqs[0]))))), extent=ext, aspect='auto')\n",
    "# clb = plt.colorbar()\n",
    "# clb.ax.set_title('[Jy*Hz]')\n",
    "# plt.title('Average After Fourier-Filter')\n",
    "# plt.xlabel('Delay [ns]')\n",
    "# plt.ylabel('Simulation Time [s]')"
   ]
  },
  {
   "cell_type": "code",
   "execution_count": 31,
   "id": "healthy-portugal",
   "metadata": {},
   "outputs": [],
   "source": [
    "from hera_pspec import utils as uvp_utils\n",
    "bls1, bls2, _, _, _, red_groups_lim, red_lens, _ = uvp_utils.calc_blpair_reds(avg_before_filter_10,avg_after_filter_10,\n",
    "                                                                          exclude_auto_bls=True,extra_info=True,\n",
    "                                                                          bl_len_range=(14,45))\n",
    "\n",
    "\n",
    "red_antpairs_lim = [[] for m in range(np.max(red_groups_lim)+1)]\n",
    "for group,bl1,bl2 in zip(red_groups_lim,bls1,bls2):\n",
    "    red_antpairs_lim[group].append((bl1,bl2))   "
   ]
  },
  {
   "cell_type": "code",
   "execution_count": 32,
   "id": "blind-wallace",
   "metadata": {},
   "outputs": [],
   "source": [
    "from hera_pspec import utils as uvp_utils\n",
    "bls3, bls4, _, _, _, red_groups, red_lens, _ = uvp_utils.calc_blpair_reds(avg_before_filter_10,avg_after_filter_10,\n",
    "                                                                          exclude_auto_bls=True,extra_info=True)\n",
    "\n",
    "\n",
    "red_antpairs = [[] for m in range(np.max(red_groups)+1)]\n",
    "for group,bl3,bl4 in zip(red_groups,bls3,bls4):\n",
    "    red_antpairs[group].append((bl3,bl4))  "
   ]
  },
  {
   "cell_type": "code",
   "execution_count": 20,
   "id": "adopted-monster",
   "metadata": {},
   "outputs": [],
   "source": [
    "psd_before = pspecdata.PSpecData(dsets=[hd_before], beam=airy_beam)\n",
    "psd_before.Jy_to_mK()\n",
    "psd_before.broadcast_dset_flags(spw_ranges=[(357,562), (20,184)])\n",
    "\n",
    "psd_after = pspecdata.PSpecData(dsets=[hd_after], beam=airy_beam)\n",
    "psd_after.Jy_to_mK()\n",
    "psd_after.broadcast_dset_flags(spw_ranges=[(357,562), (20,184)])"
   ]
  },
  {
   "cell_type": "code",
   "execution_count": 33,
   "id": "czech-soundtrack",
   "metadata": {},
   "outputs": [],
   "source": [
    "red_antpairs = [x for x in red_antpairs if x != []]\n",
    "red_antpairs_lim = [x for x in red_antpairs_lim if x != []]"
   ]
  },
  {
   "cell_type": "code",
   "execution_count": 5,
   "id": "removable-electron",
   "metadata": {
    "scrolled": true
   },
   "outputs": [],
   "source": [
    "uvp_before = psd_before.pspec(bls1=bls3,\n",
    "                              bls2=bls4,\n",
    "                              taper='bh7', dsets=[0,0],pols=('yy','yy'),\n",
    "                              sampling=True,store_window=False,\n",
    "                              spw_ranges=[(357,562), (20,184)], allow_fft=True)\n",
    "\n",
    "uvp_before.average_spectra(time_avg=True,blpair_groups=red_antpairs)"
   ]
  },
  {
   "cell_type": "code",
   "execution_count": 6,
   "id": "indian-spyware",
   "metadata": {},
   "outputs": [],
   "source": [
    "uvp_after = psd_after.pspec(bls1=bls3,\n",
    "                              bls2=bls4,\n",
    "                              taper='bh7', dsets=[0,0],pols=('yy','yy'),\n",
    "                              sampling=True,store_window=False,\n",
    "                              spw_ranges=[(357,562), (20,184)], allow_fft=True)\n",
    "\n",
    "uvp_after.average_spectra(time_avg=True,blpair_groups=red_antpairs)"
   ]
  },
  {
   "cell_type": "code",
   "execution_count": 7,
   "id": "little-subscription",
   "metadata": {},
   "outputs": [],
   "source": [
    "uvp_before_lim = psd_before.pspec(bls1=bls1,\n",
    "                              bls2=bls2,\n",
    "                              taper='bh7', dsets=[0,0],pols=('yy','yy'),\n",
    "                              sampling=True,store_window=False,\n",
    "                              spw_ranges=[(357,562), (20,184)], allow_fft=True)\n",
    "\n",
    "uvp_before_lim.average_spectra(time_avg=True,blpair_groups=red_antpairs_lim)"
   ]
  },
  {
   "cell_type": "code",
   "execution_count": 8,
   "id": "vulnerable-sense",
   "metadata": {},
   "outputs": [],
   "source": [
    "uvp_after_lim = psd_after.pspec(bls1=bls1,\n",
    "                              bls2=bls2,\n",
    "                              taper='bh7', dsets=[0,0],pols=('yy','yy'),\n",
    "                              sampling=True,store_window=False,\n",
    "                              spw_ranges=[(357,562), (20,184)], allow_fft=True)\n",
    "\n",
    "uvp_after_lim.average_spectra(time_avg=True,blpair_groups=red_antpairs_lim)"
   ]
  },
  {
   "cell_type": "code",
   "execution_count": null,
   "id": "furnished-capital",
   "metadata": {},
   "outputs": [],
   "source": [
    "# uvp_after.get_blpairs()"
   ]
  },
  {
   "cell_type": "code",
   "execution_count": null,
   "id": "known-slovakia",
   "metadata": {},
   "outputs": [],
   "source": [
    "# plt.imshow(np.log10(uvp_before.get_data((0,((0,11),(1,12)),('yy','yy'))).real), aspect='auto', vmin=1, vmax=11)\n",
    "# plt.colorbar()\n",
    "# plt.figure()\n",
    "# plt.imshow(np.log10(uvp_after.get_data((0,((0,11),(1,12)),('yy','yy'))).real), aspect='auto', vmin=1, vmax=11)\n",
    "# plt.colorbar()"
   ]
  },
  {
   "cell_type": "code",
   "execution_count": null,
   "id": "correct-speaker",
   "metadata": {},
   "outputs": [],
   "source": [
    "# fig,axarray = plt.subplots(1,2)\n",
    "# fig.set_size_inches(12,6)\n",
    "# plt.sca(axarray[0])\n",
    "# handle =pspec_plot.delay_wedge(uvp_before,spw=0,pol=('yy','yy'),fold=True,rotate=True, colorbar=True,\n",
    "#                                vmin=1,vmax=11, ax=axarray[0], delay=False)\n",
    "# plt.gca().set_ylim(0,1)\n",
    "# plt.sca(axarray[1])\n",
    "# handle = pspec_plot.delay_wedge(uvp_after,spw=0,pol=('yy','yy'),fold=True,rotate=True, colorbar=True,\n",
    "#                                vmin=1,vmax=11, ax=axarray[1], delay=False)\n",
    "# plt.gca().set_ylim(0,1)\n"
   ]
  },
  {
   "cell_type": "code",
   "execution_count": 36,
   "id": "trained-compromise",
   "metadata": {},
   "outputs": [],
   "source": [
    "k_data_before = uvp_before.get_kparas(0)[104::2]\n",
    "k_bins_before = np.diff(k_data_before)\n",
    "\n",
    "k_data_after = uvp_after.get_kparas(0)[104::2]\n",
    "k_bins_after= np.diff(k_data_after)\n",
    "#print(np.any(np.isnan(uvp_after.data_array[0])))\n",
    "\n",
    "k_data_before_lim = uvp_before_lim.get_kparas(0)[104::2]\n",
    "k_bins_before_lim = np.diff(k_data_before_lim)\n",
    "\n",
    "k_data_after_lim = uvp_after_lim.get_kparas(0)[104::2]\n",
    "k_bins_after_lim = np.diff(k_data_after_lim)\n",
    "\n",
    "\n",
    "uvp_before_sph = grouping.spherical_average(uvp_in=uvp_before,kbins=k_data_before[:-1], bin_widths=k_bins_before)\n",
    "uvp_after_sph = grouping.spherical_average(uvp_in=uvp_after,kbins=k_data_after[:-1], bin_widths=k_bins_after)\n",
    "uvp_before_sph_lim = grouping.spherical_average(uvp_in=uvp_before_lim,kbins=k_data_before_lim[:-1], bin_widths=k_bins_before_lim)\n",
    "uvp_after_sph_lim = grouping.spherical_average(uvp_in=uvp_after_lim,kbins=k_data_after_lim[:-1], bin_widths=k_bins_after_lim)\n",
    "\n",
    "#print(uvp_after_sph.get_blpairs())\n",
    "#print(uvp_after_sph.get_data((0, ((0, 15), (1, 16)), ('xx', 'xx')))[0])\n"
   ]
  },
  {
   "cell_type": "code",
   "execution_count": 38,
   "id": "equipped-charger",
   "metadata": {},
   "outputs": [
    {
     "name": "stderr",
     "output_type": "stream",
     "text": [
      "Casting complex values to real discards the imaginary part\n",
      "Casting complex values to real discards the imaginary part\n",
      "Casting complex values to real discards the imaginary part\n",
      "Casting complex values to real discards the imaginary part\n"
     ]
    },
    {
     "data": {
      "text/plain": [
       "Text(0.5, 0, '$k$ [$hMpc^{-1}$]')"
      ]
     },
     "execution_count": 38,
     "metadata": {},
     "output_type": "execute_result"
    },
    {
     "data": {
      "image/png": "[encoded data removed]",
      "text/plain": [
       "<Figure size 1440x720 with 1 Axes>"
      ]
     },
     "metadata": {
      "needs_background": "light"
     },
     "output_type": "display_data"
    }
   ],
   "source": [
    "file = 'ps_no_halos_z008.46_nf0.581596_useTs1_NX2.0e-01_alphaX1.5_TvirminX2.0e+05_aveTb001 (1).53_Pop2_1024_1600Mpc_v3'\n",
    "delta_21 = np.loadtxt(file, usecols=1)\n",
    "k = np.loadtxt(file,usecols=0)\n",
    "\n",
    "plt.plot(k_data_before_lim[:-1], uvp_before_sph_lim.get_data((0, ((0, 11), (1, 12)), ('yy', 'yy')))[0], label='avg before (bl reduce)')\n",
    "plt.plot(k_data_after_lim[:-1], uvp_after_sph_lim.get_data((0, ((0, 11), (1, 12)), ('yy', 'yy')))[0],label='avg after(bl reduce)')\n",
    "plt.plot(k_data_before[:-1], uvp_before_sph.get_data((0, ((0, 11), (1, 12)), ('yy', 'yy')))[0], label='avg before')\n",
    "plt.plot(k_data_after[:-1], uvp_after_sph.get_data((0, ((0, 11), (1, 12)), ('yy', 'yy')))[0],label='avg after')\n",
    "plt.plot(k,(delta_21/k**3)*2*np.pi**2, label='21cm')\n",
    "plt.yscale('log')\n",
    "plt.legend()\n",
    "plt.ylabel('Power [$h^{-3}$ Mpc$^3$ mK$^2$]')\n",
    "plt.xlabel('$k$ [$hMpc^{-1}$]')"
   ]
  },
  {
   "cell_type": "code",
   "execution_count": null,
   "id": "welcome-universe",
   "metadata": {},
   "outputs": [],
   "source": []
  }
 ],
 "metadata": {
  "kernelspec": {
   "display_name": "Python 3",
   "language": "python",
   "name": "python3"
  },
  "language_info": {
   "codemirror_mode": {
    "name": "ipython",
    "version": 3
   },
   "file_extension": ".py",
   "mimetype": "text/x-python",
   "name": "python",
   "nbconvert_exporter": "python",
   "pygments_lexer": "ipython3",
   "version": "3.7.10"
  }
 },
 "nbformat": 4,
 "nbformat_minor": 5
}
